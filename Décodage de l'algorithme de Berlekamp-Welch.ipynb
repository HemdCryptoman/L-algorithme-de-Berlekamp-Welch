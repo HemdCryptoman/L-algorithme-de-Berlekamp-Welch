{
 "cells": [
  {
   "cell_type": "markdown",
   "metadata": {},
   "source": [
    "# -------------------TP NOTE-------------------------\n",
    "# Prénom & Nom : El Hadji Mamadou DIA\n",
    "# Module : Code Algébrique\n",
    "# Numéro Etudiant : 23010517\n",
    "# ---------------------------------------------------------"
   ]
  },
  {
   "cell_type": "markdown",
   "metadata": {},
   "source": [
    "# ---------------------------------------------------------------------------------------\n",
    "# PARTIE 1 : Construction d’un mot de code, ajout des erreurs\n",
    "# ---------------------------------------------------------------------------------------"
   ]
  },
  {
   "cell_type": "markdown",
   "metadata": {},
   "source": [
    "# Question 1. Construire :"
   ]
  },
  {
   "cell_type": "code",
   "execution_count": 1,
   "metadata": {},
   "outputs": [],
   "source": [
    "F = GF(19)\n",
    "R = PolynomialRing(F, \"X\")\n",
    "X = R.gen()\n",
    "n = 14\n",
    "k = 6\n",
    "points = [F(i) for i in range(1, n + 1)]"
   ]
  },
  {
   "cell_type": "markdown",
   "metadata": {},
   "source": [
    "# Question 2. Polynôme aléatoire"
   ]
  },
  {
   "cell_type": "code",
   "execution_count": 2,
   "metadata": {},
   "outputs": [],
   "source": [
    "def polynome_aleatoire() :\n",
    "    coeff = [F.random_element() for _ in range(k)]\n",
    "    Poly = R(coeff)\n",
    "    return Poly"
   ]
  },
  {
   "cell_type": "code",
   "execution_count": 3,
   "metadata": {},
   "outputs": [
    {
     "data": {
      "text/html": [
       "<html><script type=\"math/tex; mode=display\">\\newcommand{\\Bold}[1]{\\mathbf{#1}}15 X^{5} + 16 X^{4} + 2 X^{3} + X^{2} + 17 X + 12</script></html>"
      ],
      "text/plain": [
       "15*X^5 + 16*X^4 + 2*X^3 + X^2 + 17*X + 12"
      ]
     },
     "metadata": {},
     "output_type": "display_data"
    }
   ],
   "source": [
    "P = polynome_aleatoire()\n",
    "show(P)"
   ]
  },
  {
   "cell_type": "markdown",
   "metadata": {},
   "source": [
    "# Question 3. Encodage"
   ]
  },
  {
   "cell_type": "code",
   "execution_count": 4,
   "metadata": {},
   "outputs": [],
   "source": [
    "def encode(message) :\n",
    "    encod = [message(i) for i in points]\n",
    "    encod_vect = vector(encod)\n",
    "    return encod_vect"
   ]
  },
  {
   "cell_type": "code",
   "execution_count": 5,
   "metadata": {},
   "outputs": [
    {
     "data": {
      "text/html": [
       "<html><script type=\"math/tex; mode=display\">\\newcommand{\\Bold}[1]{\\mathbf{#1}}\\left(6,\\,4,\\,13,\\,15,\\,0,\\,18,\\,3,\\,15,\\,7,\\,10,\\,14,\\,1,\\,16,\\,10\\right)</script></html>"
      ],
      "text/plain": [
       "(6, 4, 13, 15, 0, 18, 3, 15, 7, 10, 14, 1, 16, 10)"
      ]
     },
     "metadata": {},
     "output_type": "display_data"
    }
   ],
   "source": [
    "E = encode(P)\n",
    "show(E)"
   ]
  },
  {
   "cell_type": "markdown",
   "metadata": {},
   "source": [
    "# Question 4. Interpole"
   ]
  },
  {
   "cell_type": "code",
   "execution_count": 6,
   "metadata": {},
   "outputs": [],
   "source": [
    "def interpole(mot):\n",
    "    L = [(point, mot[i]) for i, point in enumerate(points)]\n",
    "    poly_interpole = R.lagrange_polynomial(L) \n",
    "    return poly_interpole"
   ]
  },
  {
   "cell_type": "code",
   "execution_count": 7,
   "metadata": {},
   "outputs": [
    {
     "data": {
      "text/html": [
       "<html><script type=\"math/tex; mode=display\">\\newcommand{\\Bold}[1]{\\mathbf{#1}}15 X^{5} + 16 X^{4} + 2 X^{3} + X^{2} + 17 X + 12</script></html>"
      ],
      "text/plain": [
       "15*X^5 + 16*X^4 + 2*X^3 + X^2 + 17*X + 12"
      ]
     },
     "metadata": {},
     "output_type": "display_data"
    },
    {
     "data": {
      "text/html": [
       "<html><script type=\"math/tex; mode=display\">\\newcommand{\\Bold}[1]{\\mathbf{#1}}\\mathrm{True}</script></html>"
      ],
      "text/plain": [
       "True"
      ]
     },
     "metadata": {},
     "output_type": "display_data"
    }
   ],
   "source": [
    "PP = interpole(E)\n",
    "show(PP)\n",
    "show(PP == P)"
   ]
  },
  {
   "cell_type": "markdown",
   "metadata": {},
   "source": [
    "# Question 5. Introduction d'erreur"
   ]
  },
  {
   "cell_type": "code",
   "execution_count": 8,
   "metadata": {},
   "outputs": [],
   "source": [
    "def introduit_erreurs(mot, t):\n",
    "    mot_bruite = mot.list()\n",
    "    while t != 0:\n",
    "        mot_bruite[randint(0, len(mot) - 1)] = F.random_element()\n",
    "        t -= 1\n",
    "    return vector(mot_bruite)"
   ]
  },
  {
   "cell_type": "code",
   "execution_count": 9,
   "metadata": {},
   "outputs": [
    {
     "data": {
      "text/html": [
       "<html><script type=\"math/tex; mode=display\">\\newcommand{\\Bold}[1]{\\mathbf{#1}}\\left(4,\\,4,\\,13,\\,9,\\,0,\\,11,\\,3,\\,15,\\,7,\\,10,\\,11,\\,1,\\,16,\\,10\\right)</script></html>"
      ],
      "text/plain": [
       "(4, 4, 13, 9, 0, 11, 3, 15, 7, 10, 11, 1, 16, 10)"
      ]
     },
     "metadata": {},
     "output_type": "display_data"
    }
   ],
   "source": [
    "t = 4\n",
    "y = introduit_erreurs(E, t)\n",
    "show(y)"
   ]
  },
  {
   "cell_type": "markdown",
   "metadata": {},
   "source": [
    "# ----------------------------------------------------\n",
    "# Partie 2. L’algorithme de décodage\n",
    "# ----------------------------------------------------"
   ]
  },
  {
   "cell_type": "markdown",
   "metadata": {},
   "source": [
    "# Question 6. Construction de la matrice"
   ]
  },
  {
   "cell_type": "code",
   "execution_count": 10,
   "metadata": {},
   "outputs": [],
   "source": [
    "def construit_matrice(y):\n",
    "    ligne_M = []\n",
    "    compteur = 0\n",
    "    for yi in y:\n",
    "        ligne = []\n",
    "        ai = points[compteur]\n",
    "        ligne.extend([yi * ai**j for j in range(0, t+1)])\n",
    "        ligne.extend([-ai**j for j in range(0, k + t)])\n",
    "        compteur += 1\n",
    "        ligne_M.append(ligne)\n",
    "    M = matrix(ligne_M)\n",
    "    return M"
   ]
  },
  {
   "cell_type": "code",
   "execution_count": 11,
   "metadata": {},
   "outputs": [
    {
     "data": {
      "text/html": [
       "<html><script type=\"math/tex; mode=display\">\\newcommand{\\Bold}[1]{\\mathbf{#1}}\\verb|M|\\phantom{\\verb!x!}\\verb|=| \\left(\\begin{array}{rrrrrrrrrrrrrrr}\n",
       "4 & 4 & 4 & 4 & 4 & 18 & 18 & 18 & 18 & 18 & 18 & 18 & 18 & 18 & 18 \\\\\n",
       "4 & 8 & 16 & 13 & 7 & 18 & 17 & 15 & 11 & 3 & 6 & 12 & 5 & 10 & 1 \\\\\n",
       "13 & 1 & 3 & 9 & 8 & 18 & 16 & 10 & 11 & 14 & 4 & 12 & 17 & 13 & 1 \\\\\n",
       "9 & 17 & 11 & 6 & 5 & 18 & 15 & 3 & 12 & 10 & 2 & 8 & 13 & 14 & 18 \\\\\n",
       "0 & 0 & 0 & 0 & 0 & 18 & 14 & 13 & 8 & 2 & 10 & 12 & 3 & 15 & 18 \\\\\n",
       "11 & 9 & 16 & 1 & 6 & 18 & 13 & 2 & 12 & 15 & 14 & 8 & 10 & 3 & 18 \\\\\n",
       "3 & 2 & 14 & 3 & 2 & 18 & 12 & 8 & 18 & 12 & 8 & 18 & 12 & 8 & 18 \\\\\n",
       "15 & 6 & 10 & 4 & 13 & 18 & 11 & 12 & 1 & 8 & 7 & 18 & 11 & 12 & 1 \\\\\n",
       "7 & 6 & 16 & 11 & 4 & 18 & 10 & 14 & 12 & 13 & 3 & 8 & 15 & 2 & 18 \\\\\n",
       "10 & 5 & 12 & 6 & 3 & 18 & 9 & 14 & 7 & 13 & 16 & 8 & 4 & 2 & 1 \\\\\n",
       "11 & 7 & 1 & 11 & 7 & 18 & 8 & 12 & 18 & 8 & 12 & 18 & 8 & 12 & 18 \\\\\n",
       "1 & 12 & 11 & 18 & 7 & 18 & 7 & 8 & 1 & 12 & 11 & 18 & 7 & 8 & 1 \\\\\n",
       "16 & 18 & 6 & 2 & 7 & 18 & 6 & 2 & 7 & 15 & 5 & 8 & 9 & 3 & 1 \\\\\n",
       "10 & 7 & 3 & 4 & 18 & 18 & 5 & 13 & 11 & 2 & 9 & 12 & 16 & 15 & 1\n",
       "\\end{array}\\right)</script></html>"
      ],
      "text/plain": [
       "'M = ' [ 4  4  4  4  4 18 18 18 18 18 18 18 18 18 18]\n",
       "[ 4  8 16 13  7 18 17 15 11  3  6 12  5 10  1]\n",
       "[13  1  3  9  8 18 16 10 11 14  4 12 17 13  1]\n",
       "[ 9 17 11  6  5 18 15  3 12 10  2  8 13 14 18]\n",
       "[ 0  0  0  0  0 18 14 13  8  2 10 12  3 15 18]\n",
       "[11  9 16  1  6 18 13  2 12 15 14  8 10  3 18]\n",
       "[ 3  2 14  3  2 18 12  8 18 12  8 18 12  8 18]\n",
       "[15  6 10  4 13 18 11 12  1  8  7 18 11 12  1]\n",
       "[ 7  6 16 11  4 18 10 14 12 13  3  8 15  2 18]\n",
       "[10  5 12  6  3 18  9 14  7 13 16  8  4  2  1]\n",
       "[11  7  1 11  7 18  8 12 18  8 12 18  8 12 18]\n",
       "[ 1 12 11 18  7 18  7  8  1 12 11 18  7  8  1]\n",
       "[16 18  6  2  7 18  6  2  7 15  5  8  9  3  1]\n",
       "[10  7  3  4 18 18  5 13 11  2  9 12 16 15  1]"
      ]
     },
     "metadata": {},
     "output_type": "display_data"
    }
   ],
   "source": [
    "M = construit_matrice(y)\n",
    "show(\"M = \",M)"
   ]
  },
  {
   "cell_type": "markdown",
   "metadata": {},
   "source": [
    "# Question 7. Décodage avec l’algorithme de Berlekamp-Welch"
   ]
  },
  {
   "cell_type": "code",
   "execution_count": 12,
   "metadata": {},
   "outputs": [],
   "source": [
    "def berlekamp_welch(y):\n",
    "    nbre_colonnes = M.ncols()\n",
    "    V = VectorSpace(F, nbre_colonnes)\n",
    "    base_matrice = M.right_kernel().basis_matrix()\n",
    "    s = V(base_matrice[0])\n",
    "    u = s[:t + 1]\n",
    "    v = s[t + 1:]\n",
    "    Ux = sum(u[i] * X^i for i in range(len(u)))\n",
    "    Vx = sum(v[i] * X^i for i in range(len(v)))\n",
    "    if Vx % Ux == 0:\n",
    "        return Vx // Ux\n",
    "    else:\n",
    "        raise ValueError(\"Erreur : U(x) ne divise pas V(x).\")\n"
   ]
  },
  {
   "cell_type": "code",
   "execution_count": 13,
   "metadata": {},
   "outputs": [
    {
     "data": {
      "text/html": [
       "<html><script type=\"math/tex; mode=display\">\\newcommand{\\Bold}[1]{\\mathbf{#1}}15 X^{5} + 16 X^{4} + 2 X^{3} + X^{2} + 17 X + 12</script></html>"
      ],
      "text/plain": [
       "15*X^5 + 16*X^4 + 2*X^3 + X^2 + 17*X + 12"
      ]
     },
     "metadata": {},
     "output_type": "display_data"
    }
   ],
   "source": [
    "Decode = berlekamp_welch(y)\n",
    "show(Decode)"
   ]
  },
  {
   "cell_type": "markdown",
   "metadata": {},
   "source": [
    "# Question 8. Teste"
   ]
  },
  {
   "cell_type": "code",
   "execution_count": 14,
   "metadata": {},
   "outputs": [],
   "source": [
    "def teste_Q4(nbr_test):\n",
    "    Erreur = 0\n",
    "    t = 4\n",
    "    for _ in range(nbr_test):\n",
    "        poly_alea = polynome_aleatoire()\n",
    "        mot_encode = encode(poly_alea)\n",
    "        mot_bruite = introduit_erreurs(mot_encode, 4)\n",
    "        poly_interpole = interpole(mot_encode)\n",
    "        if poly_alea == poly_interpole:\n",
    "            continue\n",
    "        else :\n",
    "            Erreur += 1\n",
    "    if Erreur == 0:\n",
    "        print(\"L'algorithmes d'interpole fonctionne correctement sur\", nbr_test, \"tests.\")\n",
    "    else:\n",
    "        print(\"Il y a eu\", Erreur, \"erreurs sur\", nbr_test, \"tests.\")"
   ]
  },
  {
   "cell_type": "code",
   "execution_count": 15,
   "metadata": {},
   "outputs": [
    {
     "name": "stdout",
     "output_type": "stream",
     "text": [
      "(\"L'algorithmes d'interpole fonctionne correctement sur\", 10, 'tests.')\n"
     ]
    }
   ],
   "source": [
    "teste_Q4(10)"
   ]
  },
  {
   "cell_type": "code",
   "execution_count": 16,
   "metadata": {},
   "outputs": [],
   "source": [
    "def teste_Q7(nbr_test):\n",
    "    Erreur = 0\n",
    "    t = 4\n",
    "    for _ in range(nbr_test):\n",
    "        poly_alea = polynome_aleatoire()\n",
    "        mot_encode = encode(poly_alea)\n",
    "        mot_bruite = introduit_erreurs(mot_encode, 4)\n",
    "        mot_decode = berlekamp_welch(mot_bruite)\n",
    "        if mot_decode == mot_decode:\n",
    "            continue\n",
    "        else :\n",
    "            Erreur += 1\n",
    "    if Erreur == 0:\n",
    "        print(\"L'algorithmes de Berlekamp Welch fonctionne correctement sur\", nbr_test, \"tests.\")\n",
    "    else:\n",
    "        print(\"Il y a eu\", Erreur, \"erreurs sur\", nbr_test, \"tests.\")"
   ]
  },
  {
   "cell_type": "code",
   "execution_count": 17,
   "metadata": {},
   "outputs": [
    {
     "name": "stdout",
     "output_type": "stream",
     "text": [
      "(\"L'algorithmes de Berlekamp Welch fonctionne correctement sur\", 10, 'tests.')\n"
     ]
    }
   ],
   "source": [
    "teste_Q7(10)"
   ]
  },
  {
   "cell_type": "code",
   "execution_count": null,
   "metadata": {},
   "outputs": [],
   "source": []
  }
 ],
 "metadata": {
  "kernelspec": {
   "display_name": "SageMath 8.9",
   "language": "sage",
   "name": "sagemath"
  },
  "language_info": {
   "codemirror_mode": {
    "name": "ipython",
    "version": 2
   },
   "file_extension": ".py",
   "mimetype": "text/x-python",
   "name": "python",
   "nbconvert_exporter": "python",
   "pygments_lexer": "ipython2",
   "version": "2.7.15"
  }
 },
 "nbformat": 4,
 "nbformat_minor": 2
}
